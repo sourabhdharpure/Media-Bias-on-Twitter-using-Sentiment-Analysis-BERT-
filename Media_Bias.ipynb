{
  "nbformat": 4,
  "nbformat_minor": 0,
  "metadata": {
    "colab": {
      "name": "Copy of Media_Bias.ipynb",
      "provenance": [],
      "collapsed_sections": [],
      "toc_visible": true
    },
    "kernelspec": {
      "name": "python3",
      "display_name": "Python 3"
    },
    "accelerator": "GPU"
  },
  "cells": [
    {
      "cell_type": "markdown",
      "metadata": {
        "id": "jn0eT0PG_euk",
        "colab_type": "text"
      },
      "source": [
        "\n",
        "\n",
        "\n",
        "\n",
        "#Media Bias on Twitter using Sentiment Analysis [BERT]\n",
        "\n",
        "The folllowing notebook trains a Sentiment Classifier on the [Tweet Sentiment Extraction](https://www.kaggle.com/c/tweet-sentiment-extraction) dataset available on Kaggle. We'll use the pretrained BERT  model for Sentiment analysis from [Hugging face](https://huggingface.co/transformers/model_doc/bert.html) library.\n",
        "\n",
        "\n",
        "I have scrapped the data from the twitter accounts of four English News Channels of India CNN News18, Republic TV, NDTV, Times Now. We'll predict the sentiment of these tweets and analyse how one channel is biased towards any particular political party or leaders.\n"
      ]
    },
    {
      "cell_type": "markdown",
      "metadata": {
        "id": "03P_ROZgPdvc",
        "colab_type": "text"
      },
      "source": [
        "##Table of Contents:\n",
        ">1. [Setup](#setup)\n",
        ">2. [Data Preparation](#prep)\n",
        ">3. [Model](#mod)\n",
        ">4. [Training](#train)\n",
        ">5. [Evaluation](#eval)\n",
        ">6. [Sentiment Prediction](#sent)\n",
        ">7. [Analysis of media-bias](#ana)\n"
      ]
    },
    {
      "cell_type": "markdown",
      "metadata": {
        "id": "vGvk5aNYPqai",
        "colab_type": "text"
      },
      "source": [
        "#<a id=\"setup\">Setup</a>"
      ]
    },
    {
      "cell_type": "code",
      "metadata": {
        "id": "5u5H6_SDVckE",
        "colab_type": "code",
        "colab": {}
      },
      "source": [
        "!pip install transformers\n"
      ],
      "execution_count": null,
      "outputs": []
    },
    {
      "cell_type": "code",
      "metadata": {
        "id": "fL8Ty1MfUsSl",
        "colab_type": "code",
        "colab": {}
      },
      "source": [
        "import numpy as np \n",
        "import pandas as pd \n",
        "import transformers\n",
        "from transformers import BertModel, BertTokenizer, AdamW, get_linear_schedule_with_warmup\n",
        "import torch\n",
        "from torch import nn, optim\n",
        "from torch.utils.data import Dataset, DataLoader\n",
        "import seaborn as sns\n",
        "from matplotlib import pyplot as plt\n",
        "from pylab import rcParams\n",
        "from sklearn.model_selection import train_test_split\n",
        "from sklearn.metrics import confusion_matrix, classification_report\n",
        "from collections import defaultdict\n",
        "from textwrap import wrap\n",
        "\n",
        "RANDOM_SEED = 42\n",
        "torch.manual_seed(RANDOM_SEED)\n",
        "np.random.seed(RANDOM_SEED)\n",
        "if torch.cuda.is_available():\n",
        "  device = torch.device(\"cuda:0\")\n",
        "  print(torch.cuda.get_device_name(0))\n",
        "else:\n",
        "  device = torch.device(\"cpu\")\n",
        "  print(\"cpu\")\n"
      ],
      "execution_count": null,
      "outputs": []
    },
    {
      "cell_type": "markdown",
      "metadata": {
        "id": "BF1p5d24VPhj",
        "colab_type": "text"
      },
      "source": [
        "#<a id=\"prep\">Data Preparation</a>"
      ]
    },
    {
      "cell_type": "code",
      "metadata": {
        "id": "VQT4B1VnWMV-",
        "colab_type": "code",
        "colab": {
          "base_uri": "https://localhost:8080/",
          "height": 204
        },
        "outputId": "53404195-f8ec-4f6b-82e2-79e2bee2fcaf"
      },
      "source": [
        "train = pd.read_csv(\"train.csv\")\n",
        "train.head()"
      ],
      "execution_count": null,
      "outputs": [
        {
          "output_type": "execute_result",
          "data": {
            "text/html": [
              "<div>\n",
              "<style scoped>\n",
              "    .dataframe tbody tr th:only-of-type {\n",
              "        vertical-align: middle;\n",
              "    }\n",
              "\n",
              "    .dataframe tbody tr th {\n",
              "        vertical-align: top;\n",
              "    }\n",
              "\n",
              "    .dataframe thead th {\n",
              "        text-align: right;\n",
              "    }\n",
              "</style>\n",
              "<table border=\"1\" class=\"dataframe\">\n",
              "  <thead>\n",
              "    <tr style=\"text-align: right;\">\n",
              "      <th></th>\n",
              "      <th>textID</th>\n",
              "      <th>text</th>\n",
              "      <th>selected_text</th>\n",
              "      <th>sentiment</th>\n",
              "    </tr>\n",
              "  </thead>\n",
              "  <tbody>\n",
              "    <tr>\n",
              "      <th>0</th>\n",
              "      <td>cb774db0d1</td>\n",
              "      <td>I`d have responded, if I were going</td>\n",
              "      <td>I`d have responded, if I were going</td>\n",
              "      <td>neutral</td>\n",
              "    </tr>\n",
              "    <tr>\n",
              "      <th>1</th>\n",
              "      <td>549e992a42</td>\n",
              "      <td>Sooo SAD I will miss you here in San Diego!!!</td>\n",
              "      <td>Sooo SAD</td>\n",
              "      <td>negative</td>\n",
              "    </tr>\n",
              "    <tr>\n",
              "      <th>2</th>\n",
              "      <td>088c60f138</td>\n",
              "      <td>my boss is bullying me...</td>\n",
              "      <td>bullying me</td>\n",
              "      <td>negative</td>\n",
              "    </tr>\n",
              "    <tr>\n",
              "      <th>3</th>\n",
              "      <td>9642c003ef</td>\n",
              "      <td>what interview! leave me alone</td>\n",
              "      <td>leave me alone</td>\n",
              "      <td>negative</td>\n",
              "    </tr>\n",
              "    <tr>\n",
              "      <th>4</th>\n",
              "      <td>358bd9e861</td>\n",
              "      <td>Sons of ****, why couldn`t they put them on t...</td>\n",
              "      <td>Sons of ****,</td>\n",
              "      <td>negative</td>\n",
              "    </tr>\n",
              "  </tbody>\n",
              "</table>\n",
              "</div>"
            ],
            "text/plain": [
              "       textID  ... sentiment\n",
              "0  cb774db0d1  ...   neutral\n",
              "1  549e992a42  ...  negative\n",
              "2  088c60f138  ...  negative\n",
              "3  9642c003ef  ...  negative\n",
              "4  358bd9e861  ...  negative\n",
              "\n",
              "[5 rows x 4 columns]"
            ]
          },
          "metadata": {
            "tags": []
          },
          "execution_count": 3
        }
      ]
    },
    {
      "cell_type": "markdown",
      "metadata": {
        "id": "rVC5gUTgTmz-",
        "colab_type": "text"
      },
      "source": [
        "The dataset contains selected_text and sentiment but we will use only sentiment column and text column for training purpose."
      ]
    },
    {
      "cell_type": "code",
      "metadata": {
        "id": "tWRWOhyYWYjF",
        "colab_type": "code",
        "colab": {
          "base_uri": "https://localhost:8080/",
          "height": 204
        },
        "outputId": "a2eeb025-156f-4fe8-ab87-cbc448810255"
      },
      "source": [
        "test = pd.read_csv(\"test.csv\")\n",
        "test.head()"
      ],
      "execution_count": null,
      "outputs": [
        {
          "output_type": "execute_result",
          "data": {
            "text/html": [
              "<div>\n",
              "<style scoped>\n",
              "    .dataframe tbody tr th:only-of-type {\n",
              "        vertical-align: middle;\n",
              "    }\n",
              "\n",
              "    .dataframe tbody tr th {\n",
              "        vertical-align: top;\n",
              "    }\n",
              "\n",
              "    .dataframe thead th {\n",
              "        text-align: right;\n",
              "    }\n",
              "</style>\n",
              "<table border=\"1\" class=\"dataframe\">\n",
              "  <thead>\n",
              "    <tr style=\"text-align: right;\">\n",
              "      <th></th>\n",
              "      <th>textID</th>\n",
              "      <th>text</th>\n",
              "      <th>sentiment</th>\n",
              "    </tr>\n",
              "  </thead>\n",
              "  <tbody>\n",
              "    <tr>\n",
              "      <th>0</th>\n",
              "      <td>f87dea47db</td>\n",
              "      <td>Last session of the day  http://twitpic.com/67ezh</td>\n",
              "      <td>neutral</td>\n",
              "    </tr>\n",
              "    <tr>\n",
              "      <th>1</th>\n",
              "      <td>96d74cb729</td>\n",
              "      <td>Shanghai is also really exciting (precisely -...</td>\n",
              "      <td>positive</td>\n",
              "    </tr>\n",
              "    <tr>\n",
              "      <th>2</th>\n",
              "      <td>eee518ae67</td>\n",
              "      <td>Recession hit Veronique Branquinho, she has to...</td>\n",
              "      <td>negative</td>\n",
              "    </tr>\n",
              "    <tr>\n",
              "      <th>3</th>\n",
              "      <td>01082688c6</td>\n",
              "      <td>happy bday!</td>\n",
              "      <td>positive</td>\n",
              "    </tr>\n",
              "    <tr>\n",
              "      <th>4</th>\n",
              "      <td>33987a8ee5</td>\n",
              "      <td>http://twitpic.com/4w75p - I like it!!</td>\n",
              "      <td>positive</td>\n",
              "    </tr>\n",
              "  </tbody>\n",
              "</table>\n",
              "</div>"
            ],
            "text/plain": [
              "       textID                                               text sentiment\n",
              "0  f87dea47db  Last session of the day  http://twitpic.com/67ezh   neutral\n",
              "1  96d74cb729   Shanghai is also really exciting (precisely -...  positive\n",
              "2  eee518ae67  Recession hit Veronique Branquinho, she has to...  negative\n",
              "3  01082688c6                                        happy bday!  positive\n",
              "4  33987a8ee5             http://twitpic.com/4w75p - I like it!!  positive"
            ]
          },
          "metadata": {
            "tags": []
          },
          "execution_count": 4
        }
      ]
    },
    {
      "cell_type": "markdown",
      "metadata": {
        "id": "KyR1Z9IvTq1x",
        "colab_type": "text"
      },
      "source": [
        "Converting the sentiment values to integers:-\n",
        "\n",
        "\n",
        "* neutral - 1\n",
        "\n",
        "* positive - 2\n",
        "\n",
        "* negative - 0"
      ]
    },
    {
      "cell_type": "code",
      "metadata": {
        "id": "ZtwKuEyBW0xg",
        "colab_type": "code",
        "colab": {}
      },
      "source": [
        "#Removing missing values\n",
        "train['text'].dropna(axis=0,inplace=True)\n",
        "train['sentiment'].dropna(axis=0,inplace=True)\n",
        "\n",
        "#Replacing sentiments with scores\n",
        "train['sentiment'].replace({'neutral':1,'positive':2,'negative':0},inplace=True)\n"
      ],
      "execution_count": null,
      "outputs": []
    },
    {
      "cell_type": "code",
      "metadata": {
        "id": "eKqAT16SWC7C",
        "colab_type": "code",
        "colab": {
          "base_uri": "https://localhost:8080/",
          "height": 204
        },
        "outputId": "e27a1aee-4196-4104-fec2-274dca0760ec"
      },
      "source": [
        "train.head()"
      ],
      "execution_count": null,
      "outputs": [
        {
          "output_type": "execute_result",
          "data": {
            "text/html": [
              "<div>\n",
              "<style scoped>\n",
              "    .dataframe tbody tr th:only-of-type {\n",
              "        vertical-align: middle;\n",
              "    }\n",
              "\n",
              "    .dataframe tbody tr th {\n",
              "        vertical-align: top;\n",
              "    }\n",
              "\n",
              "    .dataframe thead th {\n",
              "        text-align: right;\n",
              "    }\n",
              "</style>\n",
              "<table border=\"1\" class=\"dataframe\">\n",
              "  <thead>\n",
              "    <tr style=\"text-align: right;\">\n",
              "      <th></th>\n",
              "      <th>textID</th>\n",
              "      <th>text</th>\n",
              "      <th>selected_text</th>\n",
              "      <th>sentiment</th>\n",
              "    </tr>\n",
              "  </thead>\n",
              "  <tbody>\n",
              "    <tr>\n",
              "      <th>0</th>\n",
              "      <td>cb774db0d1</td>\n",
              "      <td>I`d have responded, if I were going</td>\n",
              "      <td>I`d have responded, if I were going</td>\n",
              "      <td>1</td>\n",
              "    </tr>\n",
              "    <tr>\n",
              "      <th>1</th>\n",
              "      <td>549e992a42</td>\n",
              "      <td>Sooo SAD I will miss you here in San Diego!!!</td>\n",
              "      <td>Sooo SAD</td>\n",
              "      <td>0</td>\n",
              "    </tr>\n",
              "    <tr>\n",
              "      <th>2</th>\n",
              "      <td>088c60f138</td>\n",
              "      <td>my boss is bullying me...</td>\n",
              "      <td>bullying me</td>\n",
              "      <td>0</td>\n",
              "    </tr>\n",
              "    <tr>\n",
              "      <th>3</th>\n",
              "      <td>9642c003ef</td>\n",
              "      <td>what interview! leave me alone</td>\n",
              "      <td>leave me alone</td>\n",
              "      <td>0</td>\n",
              "    </tr>\n",
              "    <tr>\n",
              "      <th>4</th>\n",
              "      <td>358bd9e861</td>\n",
              "      <td>Sons of ****, why couldn`t they put them on t...</td>\n",
              "      <td>Sons of ****,</td>\n",
              "      <td>0</td>\n",
              "    </tr>\n",
              "  </tbody>\n",
              "</table>\n",
              "</div>"
            ],
            "text/plain": [
              "       textID  ... sentiment\n",
              "0  cb774db0d1  ...         1\n",
              "1  549e992a42  ...         0\n",
              "2  088c60f138  ...         0\n",
              "3  9642c003ef  ...         0\n",
              "4  358bd9e861  ...         0\n",
              "\n",
              "[5 rows x 4 columns]"
            ]
          },
          "metadata": {
            "tags": []
          },
          "execution_count": 6
        }
      ]
    },
    {
      "cell_type": "code",
      "metadata": {
        "id": "-7XvLawkW4JA",
        "colab_type": "code",
        "colab": {}
      },
      "source": [
        "#Removing missing values\n",
        "test['text'].dropna(axis=0,inplace=True)\n",
        "test['sentiment'].dropna(axis=0,inplace=True)\n",
        "\n",
        "#Replacing sentiments with scores\n",
        "test['sentiment'].replace({'neutral':1,'positive':2,'negative':0},inplace=True)"
      ],
      "execution_count": null,
      "outputs": []
    },
    {
      "cell_type": "code",
      "metadata": {
        "id": "wQeio0s6XAVJ",
        "colab_type": "code",
        "colab": {}
      },
      "source": [
        "MAX_LEN=160\n",
        "classes = ['negative', 'neutral', 'positive']"
      ],
      "execution_count": null,
      "outputs": []
    },
    {
      "cell_type": "code",
      "metadata": {
        "id": "MIL1qtliZUmE",
        "colab_type": "code",
        "colab": {}
      },
      "source": [
        "PRE_TRAINED_MODEL_NAME = 'bert-base-uncased'"
      ],
      "execution_count": null,
      "outputs": []
    },
    {
      "cell_type": "code",
      "metadata": {
        "id": "Hg8QijysZiPw",
        "colab_type": "code",
        "colab": {}
      },
      "source": [
        "tokenizer = BertTokenizer.from_pretrained(PRE_TRAINED_MODEL_NAME)"
      ],
      "execution_count": null,
      "outputs": []
    },
    {
      "cell_type": "code",
      "metadata": {
        "id": "etLK_4JjXDJE",
        "colab_type": "code",
        "colab": {}
      },
      "source": [
        "class TwitterDataset(Dataset):\n",
        "#Creating a Twitter sentiment dataset\n",
        "  def __init__(self, reviews, targets, tokenizer, max_len):\n",
        "    self.reviews = reviews\n",
        "    self.targets = targets\n",
        "    self.tokenizer = tokenizer\n",
        "    self.max_len = max_len\n",
        "    \n",
        "  def __len__(self):\n",
        "    return len(self.reviews)  \n",
        "  \n",
        "  def __getitem__(self, item):\n",
        "    review = str(self.reviews[item]) #tweet\n",
        "    target = self.targets[item] #sentiment\n",
        "    \n",
        "    encoding = self.tokenizer.encode_plus(\n",
        "      review,\n",
        "      add_special_tokens=True, # addding [CLS] and [SEP] tokens\n",
        "      max_length=self.max_len,\n",
        "      return_token_type_ids=False,\n",
        "      truncation=True, #trunction for max length\n",
        "      pad_to_max_length=True,\n",
        "      return_attention_mask=True,\n",
        "      return_tensors='pt', #PyTorch tensors\n",
        "    )\n",
        " \n",
        "    return {\n",
        "      'review_text': review,\n",
        "      'input_ids': encoding['input_ids'].flatten(),\n",
        "      'attention_mask': encoding['attention_mask'].flatten(),\n",
        "      'targets': torch.tensor(target, dtype=torch.long)\n",
        "    }"
      ],
      "execution_count": null,
      "outputs": []
    },
    {
      "cell_type": "markdown",
      "metadata": {
        "id": "wKcCAGRVZ8qo",
        "colab_type": "text"
      },
      "source": [
        "Splitting the training and testing data"
      ]
    },
    {
      "cell_type": "code",
      "metadata": {
        "id": "PrBQfhe3XF7S",
        "colab_type": "code",
        "colab": {}
      },
      "source": [
        "d_train, d_test = train_test_split(\n",
        "  train,\n",
        "  test_size=0.1,\n",
        "  random_state=RANDOM_SEED\n",
        ")\n",
        "d_val, d_test = train_test_split(\n",
        "  test,\n",
        "  test_size=0.5,\n",
        "  random_state=RANDOM_SEED\n",
        ")"
      ],
      "execution_count": null,
      "outputs": []
    },
    {
      "cell_type": "code",
      "metadata": {
        "id": "mcIkJfaBXIbO",
        "colab_type": "code",
        "colab": {}
      },
      "source": [
        "def dataloader(dataframe, tokenizer, max_len, batch_size):\n",
        "#dataloader for pytorch dataset\n",
        "\n",
        "  dataset = TwitterDataset(\n",
        "    reviews = dataframe.text.to_numpy(), #converting to numpy array\n",
        "    targets = dataframe.sentiment.to_numpy(),  #converting to numpy array\n",
        "    max_len=max_len, # setting the maximum length\n",
        "    tokenizer=tokenizer,\n",
        "    \n",
        "  )\n",
        "\n",
        "  return DataLoader(\n",
        "    dataset,\n",
        "    num_workers=4,\n",
        "    batch_size=batch_size,\n",
        "  )\n"
      ],
      "execution_count": null,
      "outputs": []
    },
    {
      "cell_type": "code",
      "metadata": {
        "id": "voIBSoDVXLH_",
        "colab_type": "code",
        "colab": {}
      },
      "source": [
        "BATCH_SIZE = 16\n",
        "train_dataloader = dataloader(d_train, tokenizer, MAX_LEN, BATCH_SIZE)\n",
        "val_dataloader = dataloader(d_val, tokenizer, MAX_LEN, BATCH_SIZE)\n",
        "test_dataloader = dataloader(d_test, tokenizer, MAX_LEN, BATCH_SIZE)"
      ],
      "execution_count": null,
      "outputs": []
    },
    {
      "cell_type": "markdown",
      "metadata": {
        "id": "PLzJJPfXoCTH",
        "colab_type": "text"
      },
      "source": [
        "#<a id='mod'>Model</a>"
      ]
    },
    {
      "cell_type": "code",
      "metadata": {
        "id": "S1xkq4rjXN5N",
        "colab_type": "code",
        "colab": {}
      },
      "source": [
        "bert_model = BertModel.from_pretrained('bert-base-uncased')\n"
      ],
      "execution_count": null,
      "outputs": []
    },
    {
      "cell_type": "code",
      "metadata": {
        "id": "UW6M1DnuXRey",
        "colab_type": "code",
        "colab": {}
      },
      "source": [
        "class Classifier(nn.Module):\n",
        "  def __init__(self, n_classes):\n",
        "    super(Classifier, self).__init__()\n",
        "    self.bert = BertModel.from_pretrained(PRE_TRAINED_MODEL_NAME)\n",
        "    self.drop = nn.Dropout(p=0.3)\n",
        "    self.out = nn.Linear(self.bert.config.hidden_size, n_classes)\n",
        "  def forward(self, input_ids, attention_mask):\n",
        "    #using only [CLS] embedding, ignoring sequence output\n",
        "    _, pooled_output = self.bert(\n",
        "      input_ids=input_ids,\n",
        "      attention_mask=attention_mask\n",
        "    )\n",
        "    output = self.drop(pooled_output)\n",
        "    return self.out(output)"
      ],
      "execution_count": null,
      "outputs": []
    },
    {
      "cell_type": "code",
      "metadata": {
        "id": "ZVTOvuE7XU-l",
        "colab_type": "code",
        "colab": {
          "base_uri": "https://localhost:8080/",
          "height": 34
        },
        "outputId": "e4b5733b-b8d4-4960-bea5-dbfc7aba3ce9"
      },
      "source": [
        "data = next(iter(train_dataloader))\n",
        "data.keys()"
      ],
      "execution_count": null,
      "outputs": [
        {
          "output_type": "execute_result",
          "data": {
            "text/plain": [
              "dict_keys(['review_text', 'input_ids', 'attention_mask', 'targets'])"
            ]
          },
          "metadata": {
            "tags": []
          },
          "execution_count": 17
        }
      ]
    },
    {
      "cell_type": "code",
      "metadata": {
        "id": "1TR4-7iPYAAj",
        "colab_type": "code",
        "colab": {}
      },
      "source": [
        "model = Classifier(len(classes))\n",
        "model = model.to(device)"
      ],
      "execution_count": null,
      "outputs": []
    },
    {
      "cell_type": "code",
      "metadata": {
        "id": "ognfxWmTYCtx",
        "colab_type": "code",
        "colab": {}
      },
      "source": [
        "input_ids = data['input_ids'].to(device)\n",
        "attention_mask = data['attention_mask'].to(device)"
      ],
      "execution_count": null,
      "outputs": []
    },
    {
      "cell_type": "markdown",
      "metadata": {
        "id": "NajHwYS8vKWW",
        "colab_type": "text"
      },
      "source": [
        "#<a id=\"train\">Training</a>"
      ]
    },
    {
      "cell_type": "code",
      "metadata": {
        "id": "VG9fS9-zYFPc",
        "colab_type": "code",
        "colab": {}
      },
      "source": [
        "EPOCHS = 3\n",
        "optimizer = AdamW(model.parameters(), lr=2e-5, correct_bias=False)\n",
        "total_steps = len(train_dataloader) * EPOCHS\n",
        "scheduler = get_linear_schedule_with_warmup(\n",
        "  optimizer,\n",
        "  num_warmup_steps=0,\n",
        "  num_training_steps=total_steps\n",
        ")\n",
        "loss_fn = nn.CrossEntropyLoss().to(device)"
      ],
      "execution_count": null,
      "outputs": []
    },
    {
      "cell_type": "code",
      "metadata": {
        "id": "3-Ypb8UTYJJ5",
        "colab_type": "code",
        "colab": {}
      },
      "source": [
        "def train_epoch(\n",
        "  model,\n",
        "  data_loader,\n",
        "  loss_fn,\n",
        "  optimizer,\n",
        "  device,\n",
        "  scheduler,\n",
        "  n_examples\n",
        "):\n",
        "  model = model.train()\n",
        "  losses = []\n",
        "  correct_predictions = 0\n",
        "  for d in data_loader:\n",
        "    input_ids = d[\"input_ids\"].to(device)\n",
        "    attention_mask = d[\"attention_mask\"].to(device)\n",
        "    targets = d[\"targets\"].to(device)\n",
        "    outputs = model(\n",
        "      input_ids=input_ids,\n",
        "      attention_mask=attention_mask\n",
        "    )\n",
        "    _, preds = torch.max(outputs, dim=1)\n",
        "    loss = loss_fn(outputs, targets)\n",
        "    correct_predictions += torch.sum(preds == targets)\n",
        "    losses.append(loss.item())\n",
        "    loss.backward()\n",
        "    nn.utils.clip_grad_norm_(model.parameters(), max_norm=1.0)\n",
        "    optimizer.step()\n",
        "    scheduler.step()\n",
        "    optimizer.zero_grad()\n",
        "  return correct_predictions.double() / n_examples, np.mean(losses)"
      ],
      "execution_count": null,
      "outputs": []
    },
    {
      "cell_type": "code",
      "metadata": {
        "id": "_FEesin7YLkE",
        "colab_type": "code",
        "colab": {}
      },
      "source": [
        "def eval_model(model, data_loader, loss_fn, device, n_examples):\n",
        "  model = model.eval()\n",
        "  losses = []\n",
        "  correct_predictions = 0\n",
        "  with torch.no_grad():\n",
        "    for d in data_loader:\n",
        "      input_ids = d[\"input_ids\"].to(device)\n",
        "      attention_mask = d[\"attention_mask\"].to(device)\n",
        "      targets = d[\"targets\"].to(device)\n",
        "      outputs = model(\n",
        "        input_ids=input_ids,\n",
        "        attention_mask=attention_mask\n",
        "      )\n",
        "      _, preds = torch.max(outputs, dim=1)\n",
        "      loss = loss_fn(outputs, targets)\n",
        "      correct_predictions += torch.sum(preds == targets)\n",
        "      losses.append(loss.item())\n",
        "  return correct_predictions.double() / n_examples, np.mean(losses)"
      ],
      "execution_count": null,
      "outputs": []
    },
    {
      "cell_type": "code",
      "metadata": {
        "id": "8s1aDOGTYO0w",
        "colab_type": "code",
        "colab": {
          "base_uri": "https://localhost:8080/",
          "height": 306
        },
        "outputId": "f88f17f7-75c5-4513-edce-a3741cb22de7"
      },
      "source": [
        "%%time\n",
        "history = defaultdict(list)\n",
        "best_accuracy = 0\n",
        "for epoch in range(EPOCHS):\n",
        "  print(f'Epoch {epoch + 1}/{EPOCHS}')\n",
        "  print('-' * 10)\n",
        "  train_acc, train_loss = train_epoch(\n",
        "    model,\n",
        "    train_dataloader,\n",
        "    loss_fn,\n",
        "    optimizer,\n",
        "    device,\n",
        "    scheduler,\n",
        "    len(d_train)\n",
        "  )\n",
        "  print(f'Train loss {train_loss} accuracy {train_acc}')\n",
        "  val_acc, val_loss = eval_model(\n",
        "    model,\n",
        "    val_dataloader,\n",
        "    loss_fn,\n",
        "    device,\n",
        "    len(d_val)\n",
        "  )\n",
        "  print(f'Val   loss {val_loss} accuracy {val_acc}')\n",
        "  print()\n",
        "  history['train_acc'].append(train_acc)\n",
        "  history['train_loss'].append(train_loss)\n",
        "  history['val_acc'].append(val_acc)\n",
        "  history['val_loss'].append(val_loss)\n",
        "  if val_acc > best_accuracy:\n",
        "    torch.save(model.state_dict(), 'best_model_state.bin')\n",
        "    best_accuracy = val_acc"
      ],
      "execution_count": null,
      "outputs": [
        {
          "output_type": "stream",
          "text": [
            "Epoch 1/3\n",
            "----------\n",
            "Train loss 0.5732372517795103 accuracy 0.7666990134239042\n",
            "Val   loss 0.5030230187081002 accuracy 0.7911714770797963\n",
            "\n",
            "Epoch 2/3\n",
            "----------\n",
            "Train loss 0.3726332970276803 accuracy 0.861475012130034\n",
            "Val   loss 0.5425045691631936 accuracy 0.7973967176004528\n",
            "\n",
            "Epoch 3/3\n",
            "----------\n",
            "Train loss 0.26522581035664056 accuracy 0.9097525473071325\n",
            "Val   loss 0.6699393585928388 accuracy 0.7911714770797963\n",
            "\n",
            "CPU times: user 21min 38s, sys: 14min 53s, total: 36min 31s\n",
            "Wall time: 36min 43s\n"
          ],
          "name": "stdout"
        }
      ]
    },
    {
      "cell_type": "code",
      "metadata": {
        "id": "xo-PiS6dwACx",
        "colab_type": "code",
        "colab": {}
      },
      "source": [
        "def get_predictions(model, data_loader):\n",
        "  model = model.eval()\n",
        "  review_texts = []\n",
        "  predictions = []\n",
        "  prediction_probs = []\n",
        "  real_values = []\n",
        "  with torch.no_grad():\n",
        "    for d in data_loader:\n",
        "      texts = d[\"review_text\"]\n",
        "      input_ids = d[\"input_ids\"].to(device)\n",
        "      attention_mask = d[\"attention_mask\"].to(device)\n",
        "      targets = d[\"targets\"].to(device)\n",
        "      outputs = model(\n",
        "        input_ids=input_ids,\n",
        "        attention_mask=attention_mask\n",
        "      )\n",
        "      _, preds = torch.max(outputs, dim=1)\n",
        "      review_texts.extend(texts)\n",
        "      predictions.extend(preds)\n",
        "      prediction_probs.extend(outputs)\n",
        "      real_values.extend(targets)\n",
        "  predictions = torch.stack(predictions).cpu()\n",
        "  prediction_probs = torch.stack(prediction_probs).cpu()\n",
        "  real_values = torch.stack(real_values).cpu()\n",
        "  return review_texts, predictions, prediction_probs, real_values"
      ],
      "execution_count": null,
      "outputs": []
    },
    {
      "cell_type": "code",
      "metadata": {
        "id": "zKKpI5xfwFH-",
        "colab_type": "code",
        "colab": {}
      },
      "source": [
        "y_review_texts, y_pred, y_pred_probs, y_test = get_predictions(\n",
        "  model,\n",
        "  test_dataloader\n",
        ")"
      ],
      "execution_count": null,
      "outputs": []
    },
    {
      "cell_type": "code",
      "metadata": {
        "id": "wBMfrYxswFpP",
        "colab_type": "code",
        "colab": {
          "base_uri": "https://localhost:8080/",
          "height": 187
        },
        "outputId": "e5717b42-5c6f-4ed3-9939-f29202eed2af"
      },
      "source": [
        "print(classification_report(y_test, y_pred, target_names=classes))"
      ],
      "execution_count": null,
      "outputs": [
        {
          "output_type": "stream",
          "text": [
            "              precision    recall  f1-score   support\n",
            "\n",
            "    negative       0.77      0.82      0.79       484\n",
            "     neutral       0.78      0.75      0.77       720\n",
            "    positive       0.84      0.84      0.84       563\n",
            "\n",
            "    accuracy                           0.80      1767\n",
            "   macro avg       0.80      0.80      0.80      1767\n",
            "weighted avg       0.80      0.80      0.80      1767\n",
            "\n"
          ],
          "name": "stdout"
        }
      ]
    },
    {
      "cell_type": "markdown",
      "metadata": {
        "id": "RxQK4coVyC5M",
        "colab_type": "text"
      },
      "source": [
        "#<a id=\"sent\">Sentiment Prediction<a>"
      ]
    },
    {
      "cell_type": "markdown",
      "metadata": {
        "id": "7zspR-D_5lKv",
        "colab_type": "text"
      },
      "source": [
        "I have used the [Twitter Scrapper](https://dev.to/natterstefan/scrape-tweets-from-twitter-profiles-without-using-twitter-s-api-47n7) for scraping the latest 5000 tweets of every channel.\n",
        "\n",
        "---\n",
        "\n"
      ]
    },
    {
      "cell_type": "markdown",
      "metadata": {
        "id": "jf9wkjeC5vJj",
        "colab_type": "text"
      },
      "source": [
        ""
      ]
    },
    {
      "cell_type": "code",
      "metadata": {
        "id": "nm_reIflyTde",
        "colab_type": "code",
        "colab": {
          "base_uri": "https://localhost:8080/",
          "height": 204
        },
        "outputId": "5dce768a-75a4-4ff5-e8da-0859442ce62c"
      },
      "source": [
        "df = pd.read_csv(\"tweets.csv\",index_col=[0])\n",
        "df.head()"
      ],
      "execution_count": null,
      "outputs": [
        {
          "output_type": "execute_result",
          "data": {
            "text/html": [
              "<div>\n",
              "<style scoped>\n",
              "    .dataframe tbody tr th:only-of-type {\n",
              "        vertical-align: middle;\n",
              "    }\n",
              "\n",
              "    .dataframe tbody tr th {\n",
              "        vertical-align: top;\n",
              "    }\n",
              "\n",
              "    .dataframe thead th {\n",
              "        text-align: right;\n",
              "    }\n",
              "</style>\n",
              "<table border=\"1\" class=\"dataframe\">\n",
              "  <thead>\n",
              "    <tr style=\"text-align: right;\">\n",
              "      <th></th>\n",
              "      <th>channel</th>\n",
              "      <th>tweet</th>\n",
              "      <th>Modi</th>\n",
              "      <th>Rahul Gandhi</th>\n",
              "      <th>BJP</th>\n",
              "      <th>Congress</th>\n",
              "      <th>Amit Shah</th>\n",
              "      <th>Arvind Kejriwal</th>\n",
              "    </tr>\n",
              "  </thead>\n",
              "  <tbody>\n",
              "    <tr>\n",
              "      <th>0</th>\n",
              "      <td>ndtv</td>\n",
              "      <td>\"Aggrieved\": Rahul Gandhi says \"regret police ...</td>\n",
              "      <td>0</td>\n",
              "      <td>1</td>\n",
              "      <td>0</td>\n",
              "      <td>0</td>\n",
              "      <td>0</td>\n",
              "      <td>0</td>\n",
              "    </tr>\n",
              "    <tr>\n",
              "      <th>1</th>\n",
              "      <td>ndtv</td>\n",
              "      <td>UK plans local #lockdowns, Indian-origin peopl...</td>\n",
              "      <td>0</td>\n",
              "      <td>0</td>\n",
              "      <td>0</td>\n",
              "      <td>0</td>\n",
              "      <td>0</td>\n",
              "      <td>0</td>\n",
              "    </tr>\n",
              "    <tr>\n",
              "      <th>2</th>\n",
              "      <td>ndtv</td>\n",
              "      <td>Bengal didn't share data, missed migrants job ...</td>\n",
              "      <td>0</td>\n",
              "      <td>0</td>\n",
              "      <td>0</td>\n",
              "      <td>0</td>\n",
              "      <td>0</td>\n",
              "      <td>0</td>\n",
              "    </tr>\n",
              "    <tr>\n",
              "      <th>3</th>\n",
              "      <td>ndtv</td>\n",
              "      <td>Gurugram shopping malls to reopen from July 1,...</td>\n",
              "      <td>0</td>\n",
              "      <td>0</td>\n",
              "      <td>0</td>\n",
              "      <td>0</td>\n",
              "      <td>0</td>\n",
              "      <td>0</td>\n",
              "    </tr>\n",
              "    <tr>\n",
              "      <th>4</th>\n",
              "      <td>ndtv</td>\n",
              "      <td>UP starting MBBS classes can jeopardise studen...</td>\n",
              "      <td>0</td>\n",
              "      <td>1</td>\n",
              "      <td>0</td>\n",
              "      <td>0</td>\n",
              "      <td>0</td>\n",
              "      <td>0</td>\n",
              "    </tr>\n",
              "  </tbody>\n",
              "</table>\n",
              "</div>"
            ],
            "text/plain": [
              "  channel  ... Arvind Kejriwal\n",
              "0    ndtv  ...               0\n",
              "1    ndtv  ...               0\n",
              "2    ndtv  ...               0\n",
              "3    ndtv  ...               0\n",
              "4    ndtv  ...               0\n",
              "\n",
              "[5 rows x 8 columns]"
            ]
          },
          "metadata": {
            "tags": []
          },
          "execution_count": 27
        }
      ]
    },
    {
      "cell_type": "markdown",
      "metadata": {
        "id": "626peFVv6UgU",
        "colab_type": "text"
      },
      "source": [
        "**Data Description**\n",
        ">1. channel - Name of the news channel.\n",
        ">2. tweet   - Text of the tweet.\n",
        ">3.Modi     - Tweet contains keyword 'modi' or not\n",
        ">3.Rahul Gandhi     - Tweet contains keyword 'Rahul Gandhi' or not\n",
        ">3.BJP     - Tweet contains keyword 'BJP' or not\n",
        ">3.Congress     - Tweet contains keyword 'Congress' or not\n",
        ">3.Amit Shah     - Tweet contains keyword 'Amit Shah' or not\n",
        ">3.Arvind Kejriwal     - Tweet contains keyword 'Arvind Kejriwal' or not"
      ]
    },
    {
      "cell_type": "code",
      "metadata": {
        "id": "bV1hUSaFyJLl",
        "colab_type": "code",
        "colab": {}
      },
      "source": [
        "pred = []\n",
        "for tweet in df['tweet']:\n",
        "  encoded_review = tokenizer.encode_plus(\n",
        "  tweet,\n",
        "  max_length=MAX_LEN,\n",
        "  add_special_tokens=True,\n",
        "  return_token_type_ids=False,\n",
        "  truncation=True,\n",
        "  pad_to_max_length=True,\n",
        "  return_attention_mask=True,\n",
        "  return_tensors='pt',\n",
        "  )\n",
        "  input_ids = encoded_review['input_ids'].to(device)\n",
        "  attention_mask = encoded_review['attention_mask'].to(device)\n",
        "  output = model(input_ids, attention_mask)\n",
        "  _, prediction = torch.max(output, dim=1)\n",
        "  pred.append(classes[prediction])\n",
        "\n",
        "df['sentiment'] = pred\n"
      ],
      "execution_count": null,
      "outputs": []
    },
    {
      "cell_type": "markdown",
      "metadata": {
        "id": "s8mGzmjF0I4D",
        "colab_type": "text"
      },
      "source": [
        "Creating a new column 'relevant', it will be 1 or 0 depending upon whether it contains any keywords or not"
      ]
    },
    {
      "cell_type": "code",
      "metadata": {
        "id": "lyzP8Kog0Tsy",
        "colab_type": "code",
        "colab": {}
      },
      "source": [
        "df['relevant']=df.sum(axis=1)\n",
        "binary=[]\n",
        "for t in df['relevant']:\n",
        "  if t>0:\n",
        "    binary.append(1)\n",
        "  else:\n",
        "    binary.append(0)\n",
        "\n"
      ],
      "execution_count": null,
      "outputs": []
    },
    {
      "cell_type": "code",
      "metadata": {
        "id": "G-tf_XdUEXz8",
        "colab_type": "code",
        "colab": {
          "base_uri": "https://localhost:8080/",
          "height": 306
        },
        "outputId": "d1bae56f-5dd0-4f39-f04c-20ef1bbfd007"
      },
      "source": [
        "df['relevant'] =binary\n",
        "df.head()"
      ],
      "execution_count": null,
      "outputs": [
        {
          "output_type": "execute_result",
          "data": {
            "text/html": [
              "<div>\n",
              "<style scoped>\n",
              "    .dataframe tbody tr th:only-of-type {\n",
              "        vertical-align: middle;\n",
              "    }\n",
              "\n",
              "    .dataframe tbody tr th {\n",
              "        vertical-align: top;\n",
              "    }\n",
              "\n",
              "    .dataframe thead th {\n",
              "        text-align: right;\n",
              "    }\n",
              "</style>\n",
              "<table border=\"1\" class=\"dataframe\">\n",
              "  <thead>\n",
              "    <tr style=\"text-align: right;\">\n",
              "      <th></th>\n",
              "      <th>channel</th>\n",
              "      <th>tweet</th>\n",
              "      <th>Modi</th>\n",
              "      <th>Rahul Gandhi</th>\n",
              "      <th>BJP</th>\n",
              "      <th>Congress</th>\n",
              "      <th>Amit Shah</th>\n",
              "      <th>Arvind Kejriwal</th>\n",
              "      <th>sentiment</th>\n",
              "      <th>relevant</th>\n",
              "    </tr>\n",
              "  </thead>\n",
              "  <tbody>\n",
              "    <tr>\n",
              "      <th>0</th>\n",
              "      <td>ndtv</td>\n",
              "      <td>\"Aggrieved\": Rahul Gandhi says \"regret police ...</td>\n",
              "      <td>0</td>\n",
              "      <td>1</td>\n",
              "      <td>0</td>\n",
              "      <td>0</td>\n",
              "      <td>0</td>\n",
              "      <td>0</td>\n",
              "      <td>negative</td>\n",
              "      <td>1</td>\n",
              "    </tr>\n",
              "    <tr>\n",
              "      <th>1</th>\n",
              "      <td>ndtv</td>\n",
              "      <td>UK plans local #lockdowns, Indian-origin peopl...</td>\n",
              "      <td>0</td>\n",
              "      <td>0</td>\n",
              "      <td>0</td>\n",
              "      <td>0</td>\n",
              "      <td>0</td>\n",
              "      <td>0</td>\n",
              "      <td>negative</td>\n",
              "      <td>0</td>\n",
              "    </tr>\n",
              "    <tr>\n",
              "      <th>2</th>\n",
              "      <td>ndtv</td>\n",
              "      <td>Bengal didn't share data, missed migrants job ...</td>\n",
              "      <td>0</td>\n",
              "      <td>0</td>\n",
              "      <td>0</td>\n",
              "      <td>0</td>\n",
              "      <td>0</td>\n",
              "      <td>0</td>\n",
              "      <td>negative</td>\n",
              "      <td>0</td>\n",
              "    </tr>\n",
              "    <tr>\n",
              "      <th>3</th>\n",
              "      <td>ndtv</td>\n",
              "      <td>Gurugram shopping malls to reopen from July 1,...</td>\n",
              "      <td>0</td>\n",
              "      <td>0</td>\n",
              "      <td>0</td>\n",
              "      <td>0</td>\n",
              "      <td>0</td>\n",
              "      <td>0</td>\n",
              "      <td>neutral</td>\n",
              "      <td>0</td>\n",
              "    </tr>\n",
              "    <tr>\n",
              "      <th>4</th>\n",
              "      <td>ndtv</td>\n",
              "      <td>UP starting MBBS classes can jeopardise studen...</td>\n",
              "      <td>0</td>\n",
              "      <td>1</td>\n",
              "      <td>0</td>\n",
              "      <td>0</td>\n",
              "      <td>0</td>\n",
              "      <td>0</td>\n",
              "      <td>negative</td>\n",
              "      <td>1</td>\n",
              "    </tr>\n",
              "  </tbody>\n",
              "</table>\n",
              "</div>"
            ],
            "text/plain": [
              "  channel  ... relevant\n",
              "0    ndtv  ...        1\n",
              "1    ndtv  ...        0\n",
              "2    ndtv  ...        0\n",
              "3    ndtv  ...        0\n",
              "4    ndtv  ...        1\n",
              "\n",
              "[5 rows x 10 columns]"
            ]
          },
          "metadata": {
            "tags": []
          },
          "execution_count": 30
        }
      ]
    },
    {
      "cell_type": "markdown",
      "metadata": {
        "id": "6K75PV-P5tk5",
        "colab_type": "text"
      },
      "source": [
        "#<a id=\"ana\">Analysis of Media-Bias<a>"
      ]
    },
    {
      "cell_type": "code",
      "metadata": {
        "id": "ZMvBEse04uZN",
        "colab_type": "code",
        "colab": {
          "base_uri": "https://localhost:8080/",
          "height": 68
        },
        "outputId": "9c73ba5a-45d9-471e-b7e3-a4e073080a8c"
      },
      "source": [
        "num_relevant = df.relevant.sum()\n",
        "num_total = df.shape[0]\n",
        "print('Number of relevant tweets: %s' % num_relevant)\n",
        "print('Total number of tweets: %s' % num_total)\n",
        "print('Percentage of relevant tweets: %0.2f%%' % (100*num_relevant/num_total))"
      ],
      "execution_count": null,
      "outputs": [
        {
          "output_type": "stream",
          "text": [
            "Number of relevant tweets: 3408\n",
            "Total number of tweets: 20000\n",
            "Percentage of relevant tweets: 17.04%\n"
          ],
          "name": "stdout"
        }
      ]
    },
    {
      "cell_type": "markdown",
      "metadata": {
        "id": "5cUKhSs25G7j",
        "colab_type": "text"
      },
      "source": [
        "The chosen topics are covered in of the total 20,000 tweets. Let's see to what extent those topics are covered overall by each channel"
      ]
    },
    {
      "cell_type": "code",
      "metadata": {
        "id": "xsjW8jOs5Cw2",
        "colab_type": "code",
        "colab": {
          "base_uri": "https://localhost:8080/",
          "height": 204
        },
        "outputId": "1a989716-27ca-4bc0-c9af-a7939bf77a9a"
      },
      "source": [
        "channel_stats = pd.DataFrame({\n",
        "    'relevant': df.groupby('channel').relevant.sum().astype(int),\n",
        "    'total': df.groupby('channel').size()\n",
        "})\n",
        "channel_stats['percentage_relevant'] = (100*channel_stats.relevant/channel_stats.total).round(2)\n",
        "channel_stats.sort_values('percentage_relevant', ascending=False)"
      ],
      "execution_count": null,
      "outputs": [
        {
          "output_type": "execute_result",
          "data": {
            "text/html": [
              "<div>\n",
              "<style scoped>\n",
              "    .dataframe tbody tr th:only-of-type {\n",
              "        vertical-align: middle;\n",
              "    }\n",
              "\n",
              "    .dataframe tbody tr th {\n",
              "        vertical-align: top;\n",
              "    }\n",
              "\n",
              "    .dataframe thead th {\n",
              "        text-align: right;\n",
              "    }\n",
              "</style>\n",
              "<table border=\"1\" class=\"dataframe\">\n",
              "  <thead>\n",
              "    <tr style=\"text-align: right;\">\n",
              "      <th></th>\n",
              "      <th>relevant</th>\n",
              "      <th>total</th>\n",
              "      <th>percentage_relevant</th>\n",
              "    </tr>\n",
              "    <tr>\n",
              "      <th>channel</th>\n",
              "      <th></th>\n",
              "      <th></th>\n",
              "      <th></th>\n",
              "    </tr>\n",
              "  </thead>\n",
              "  <tbody>\n",
              "    <tr>\n",
              "      <th>times</th>\n",
              "      <td>1163</td>\n",
              "      <td>5000</td>\n",
              "      <td>23.26</td>\n",
              "    </tr>\n",
              "    <tr>\n",
              "      <th>cnn</th>\n",
              "      <td>849</td>\n",
              "      <td>5000</td>\n",
              "      <td>16.98</td>\n",
              "    </tr>\n",
              "    <tr>\n",
              "      <th>ndtv</th>\n",
              "      <td>814</td>\n",
              "      <td>5000</td>\n",
              "      <td>16.28</td>\n",
              "    </tr>\n",
              "    <tr>\n",
              "      <th>republic</th>\n",
              "      <td>582</td>\n",
              "      <td>5000</td>\n",
              "      <td>11.64</td>\n",
              "    </tr>\n",
              "  </tbody>\n",
              "</table>\n",
              "</div>"
            ],
            "text/plain": [
              "          relevant  total  percentage_relevant\n",
              "channel                                       \n",
              "times         1163   5000                23.26\n",
              "cnn            849   5000                16.98\n",
              "ndtv           814   5000                16.28\n",
              "republic       582   5000                11.64"
            ]
          },
          "metadata": {
            "tags": []
          },
          "execution_count": 32
        }
      ]
    },
    {
      "cell_type": "markdown",
      "metadata": {
        "id": "rkOwtI5s-ZMg",
        "colab_type": "text"
      },
      "source": [
        "##Relative topic Coverage\n",
        "> It shows that how important each topic is to each channel, We will plot the count of tweets about every topic for each channel."
      ]
    },
    {
      "cell_type": "code",
      "metadata": {
        "id": "Nrfzvr-rz2u2",
        "colab_type": "code",
        "colab": {
          "base_uri": "https://localhost:8080/",
          "height": 367
        },
        "outputId": "5b9bd1f4-566d-4d5d-84a2-659f11cddca7"
      },
      "source": [
        "modi=df.loc[df['Modi'] == 1]\n",
        "rahul_gandhi=df.loc[df['Rahul Gandhi'] == 1]\n",
        "\n",
        "fig, axes = plt.subplots(1, 2,figsize=(15,5))\n",
        "plt.ylim(0, 400)\n",
        "sns.countplot(x=\"channel\", data=modi, ax=axes[0]).set_title(\"Modi\")\n",
        "sns.countplot(x='channel',data=rahul_gandhi, ax=axes[1]).set_title(\"Rahul Gandhi\")\n"
      ],
      "execution_count": null,
      "outputs": [
        {
          "output_type": "execute_result",
          "data": {
            "text/plain": [
              "Text(0.5, 1.0, 'Rahul Gandhi')"
            ]
          },
          "metadata": {
            "tags": []
          },
          "execution_count": 33
        },
        {
          "output_type": "display_data",
          "data": {
            "image/png": "[encoded data removed]",
            "text/plain": [
              "<Figure size 1080x360 with 2 Axes>"
            ]
          },
          "metadata": {
            "tags": [],
            "needs_background": "light"
          }
        }
      ]
    },
    {
      "cell_type": "markdown",
      "metadata": {
        "id": "MTeCD9FmTEgY",
        "colab_type": "text"
      },
      "source": [
        "It shows that except the Times now news Channel the other three talks more about Narendra Modi than Rahul Gandhi."
      ]
    },
    {
      "cell_type": "code",
      "metadata": {
        "id": "4c4DmnPeN9Si",
        "colab_type": "code",
        "colab": {
          "base_uri": "https://localhost:8080/",
          "height": 367
        },
        "outputId": "be7ff530-0fce-4eb2-e559-118348212dd2"
      },
      "source": [
        "bjp=df.loc[df['BJP'] == 1]\n",
        "congress=df.loc[df['Congress'] == 1]\n",
        "\n",
        "fig, axes = plt.subplots(1, 2,figsize=(15,5))\n",
        "plt.ylim(0, 400)\n",
        "sns.countplot(x=\"channel\", data=bjp, ax=axes[0]).set_title(\"BJP\")\n",
        "sns.countplot(x='channel',data=congress, ax=axes[1]).set_title(\"Congress\")\n"
      ],
      "execution_count": null,
      "outputs": [
        {
          "output_type": "execute_result",
          "data": {
            "text/plain": [
              "Text(0.5, 1.0, 'Congress')"
            ]
          },
          "metadata": {
            "tags": []
          },
          "execution_count": 34
        },
        {
          "output_type": "display_data",
          "data": {
            "image/png": "[encoded data removed]",
            "text/plain": [
              "<Figure size 1080x360 with 2 Axes>"
            ]
          },
          "metadata": {
            "tags": [],
            "needs_background": "light"
          }
        }
      ]
    },
    {
      "cell_type": "markdown",
      "metadata": {
        "id": "Wbolsi8zTVg-",
        "colab_type": "text"
      },
      "source": [
        "* It can be seen from the above graph that Times Now is having the most tweets about BJP(and Modi) than any other channel and \n",
        "*For Congress Party the distribution is nearly equal among all channels with CNN having the maximum tweets about Congress Party."
      ]
    },
    {
      "cell_type": "code",
      "metadata": {
        "id": "zL_ZLpuxSaf0",
        "colab_type": "code",
        "colab": {
          "base_uri": "https://localhost:8080/",
          "height": 367
        },
        "outputId": "7ef69494-9350-41c3-865c-adf500e40f54"
      },
      "source": [
        "amit=df.loc[df['Amit Shah'] == 1]\n",
        "arvind=df.loc[df['Arvind Kejriwal'] == 1]\n",
        "\n",
        "fig, axes = plt.subplots(1, 2,figsize=(15,5))\n",
        "plt.ylim(0, 400)\n",
        "sns.countplot(x=\"channel\", data=amit, ax=axes[0]).set_title(\"Amit Shah\")\n",
        "sns.countplot(x='channel',data=arvind, ax=axes[1]).set_title(\"Arvind Kejriwal\")"
      ],
      "execution_count": null,
      "outputs": [
        {
          "output_type": "execute_result",
          "data": {
            "text/plain": [
              "Text(0.5, 1.0, 'Arvind Kejriwal')"
            ]
          },
          "metadata": {
            "tags": []
          },
          "execution_count": 35
        },
        {
          "output_type": "display_data",
          "data": {
            "image/png": "[encoded data removed]",
            "text/plain": [
              "<Figure size 1080x360 with 2 Axes>"
            ]
          },
          "metadata": {
            "tags": [],
            "needs_background": "light"
          }
        }
      ]
    },
    {
      "cell_type": "markdown",
      "metadata": {
        "id": "HbaX-uZw6C8m",
        "colab_type": "text"
      },
      "source": [
        "It shows that NDTV talks about BJP's Political Leaders quite often and Arwind Kejriwal is having very few tweets on all the four channels."
      ]
    },
    {
      "cell_type": "markdown",
      "metadata": {
        "id": "As_FrB4z863A",
        "colab_type": "text"
      },
      "source": [
        "##Sentiment towards Topics"
      ]
    },
    {
      "cell_type": "markdown",
      "metadata": {
        "id": "l-3fA7rUjLGC",
        "colab_type": "text"
      },
      "source": [
        "We will show the sentiments of News Channels towards our Topics by ploting percentage of their positive tweets and negative tweets out of their total tweets about a topic."
      ]
    },
    {
      "cell_type": "markdown",
      "metadata": {
        "id": "3SlJOJ-pdnWZ",
        "colab_type": "text"
      },
      "source": [
        "### Percentage Positive Tweets"
      ]
    },
    {
      "cell_type": "code",
      "metadata": {
        "id": "NCXabveKR-fk",
        "colab_type": "code",
        "colab": {
          "base_uri": "https://localhost:8080/",
          "height": 452
        },
        "outputId": "8d8875af-4bfd-4997-cd98-98f544819d7b"
      },
      "source": [
        "modi.groupby(['channel','sentiment']).sum()"
      ],
      "execution_count": null,
      "outputs": [
        {
          "output_type": "execute_result",
          "data": {
            "text/html": [
              "<div>\n",
              "<style scoped>\n",
              "    .dataframe tbody tr th:only-of-type {\n",
              "        vertical-align: middle;\n",
              "    }\n",
              "\n",
              "    .dataframe tbody tr th {\n",
              "        vertical-align: top;\n",
              "    }\n",
              "\n",
              "    .dataframe thead th {\n",
              "        text-align: right;\n",
              "    }\n",
              "</style>\n",
              "<table border=\"1\" class=\"dataframe\">\n",
              "  <thead>\n",
              "    <tr style=\"text-align: right;\">\n",
              "      <th></th>\n",
              "      <th></th>\n",
              "      <th>Modi</th>\n",
              "      <th>Rahul Gandhi</th>\n",
              "      <th>BJP</th>\n",
              "      <th>Congress</th>\n",
              "      <th>Amit Shah</th>\n",
              "      <th>Arvind Kejriwal</th>\n",
              "      <th>relevant</th>\n",
              "    </tr>\n",
              "    <tr>\n",
              "      <th>channel</th>\n",
              "      <th>sentiment</th>\n",
              "      <th></th>\n",
              "      <th></th>\n",
              "      <th></th>\n",
              "      <th></th>\n",
              "      <th></th>\n",
              "      <th></th>\n",
              "      <th></th>\n",
              "    </tr>\n",
              "  </thead>\n",
              "  <tbody>\n",
              "    <tr>\n",
              "      <th rowspan=\"3\" valign=\"top\">cnn</th>\n",
              "      <th>negative</th>\n",
              "      <td>31</td>\n",
              "      <td>11</td>\n",
              "      <td>4</td>\n",
              "      <td>8</td>\n",
              "      <td>1</td>\n",
              "      <td>0</td>\n",
              "      <td>31</td>\n",
              "    </tr>\n",
              "    <tr>\n",
              "      <th>neutral</th>\n",
              "      <td>165</td>\n",
              "      <td>15</td>\n",
              "      <td>4</td>\n",
              "      <td>9</td>\n",
              "      <td>7</td>\n",
              "      <td>1</td>\n",
              "      <td>165</td>\n",
              "    </tr>\n",
              "    <tr>\n",
              "      <th>positive</th>\n",
              "      <td>43</td>\n",
              "      <td>1</td>\n",
              "      <td>4</td>\n",
              "      <td>0</td>\n",
              "      <td>2</td>\n",
              "      <td>0</td>\n",
              "      <td>43</td>\n",
              "    </tr>\n",
              "    <tr>\n",
              "      <th rowspan=\"3\" valign=\"top\">ndtv</th>\n",
              "      <th>negative</th>\n",
              "      <td>24</td>\n",
              "      <td>4</td>\n",
              "      <td>1</td>\n",
              "      <td>3</td>\n",
              "      <td>1</td>\n",
              "      <td>0</td>\n",
              "      <td>24</td>\n",
              "    </tr>\n",
              "    <tr>\n",
              "      <th>neutral</th>\n",
              "      <td>193</td>\n",
              "      <td>14</td>\n",
              "      <td>5</td>\n",
              "      <td>14</td>\n",
              "      <td>3</td>\n",
              "      <td>0</td>\n",
              "      <td>193</td>\n",
              "    </tr>\n",
              "    <tr>\n",
              "      <th>positive</th>\n",
              "      <td>86</td>\n",
              "      <td>5</td>\n",
              "      <td>2</td>\n",
              "      <td>2</td>\n",
              "      <td>8</td>\n",
              "      <td>0</td>\n",
              "      <td>86</td>\n",
              "    </tr>\n",
              "    <tr>\n",
              "      <th rowspan=\"3\" valign=\"top\">republic</th>\n",
              "      <th>negative</th>\n",
              "      <td>28</td>\n",
              "      <td>9</td>\n",
              "      <td>7</td>\n",
              "      <td>5</td>\n",
              "      <td>0</td>\n",
              "      <td>0</td>\n",
              "      <td>28</td>\n",
              "    </tr>\n",
              "    <tr>\n",
              "      <th>neutral</th>\n",
              "      <td>112</td>\n",
              "      <td>10</td>\n",
              "      <td>6</td>\n",
              "      <td>4</td>\n",
              "      <td>2</td>\n",
              "      <td>0</td>\n",
              "      <td>112</td>\n",
              "    </tr>\n",
              "    <tr>\n",
              "      <th>positive</th>\n",
              "      <td>19</td>\n",
              "      <td>0</td>\n",
              "      <td>0</td>\n",
              "      <td>0</td>\n",
              "      <td>1</td>\n",
              "      <td>0</td>\n",
              "      <td>19</td>\n",
              "    </tr>\n",
              "    <tr>\n",
              "      <th rowspan=\"3\" valign=\"top\">times</th>\n",
              "      <th>negative</th>\n",
              "      <td>109</td>\n",
              "      <td>28</td>\n",
              "      <td>18</td>\n",
              "      <td>5</td>\n",
              "      <td>0</td>\n",
              "      <td>0</td>\n",
              "      <td>109</td>\n",
              "    </tr>\n",
              "    <tr>\n",
              "      <th>neutral</th>\n",
              "      <td>232</td>\n",
              "      <td>20</td>\n",
              "      <td>8</td>\n",
              "      <td>23</td>\n",
              "      <td>0</td>\n",
              "      <td>0</td>\n",
              "      <td>232</td>\n",
              "    </tr>\n",
              "    <tr>\n",
              "      <th>positive</th>\n",
              "      <td>72</td>\n",
              "      <td>0</td>\n",
              "      <td>6</td>\n",
              "      <td>0</td>\n",
              "      <td>0</td>\n",
              "      <td>0</td>\n",
              "      <td>72</td>\n",
              "    </tr>\n",
              "  </tbody>\n",
              "</table>\n",
              "</div>"
            ],
            "text/plain": [
              "                    Modi  Rahul Gandhi  ...  Arvind Kejriwal  relevant\n",
              "channel  sentiment                      ...                           \n",
              "cnn      negative     31            11  ...                0        31\n",
              "         neutral     165            15  ...                1       165\n",
              "         positive     43             1  ...                0        43\n",
              "ndtv     negative     24             4  ...                0        24\n",
              "         neutral     193            14  ...                0       193\n",
              "         positive     86             5  ...                0        86\n",
              "republic negative     28             9  ...                0        28\n",
              "         neutral     112            10  ...                0       112\n",
              "         positive     19             0  ...                0        19\n",
              "times    negative    109            28  ...                0       109\n",
              "         neutral     232            20  ...                0       232\n",
              "         positive     72             0  ...                0        72\n",
              "\n",
              "[12 rows x 7 columns]"
            ]
          },
          "metadata": {
            "tags": []
          },
          "execution_count": 55
        }
      ]
    },
    {
      "cell_type": "code",
      "metadata": {
        "id": "IBFXvaqMYUx9",
        "colab_type": "code",
        "colab": {}
      },
      "source": [
        "channels=['cnn','ndtv','republic','times']\n"
      ],
      "execution_count": null,
      "outputs": []
    },
    {
      "cell_type": "markdown",
      "metadata": {
        "id": "Hdi7kPV2eTTI",
        "colab_type": "text"
      },
      "source": [
        "**Modi vs Rahul Gandhi**"
      ]
    },
    {
      "cell_type": "code",
      "metadata": {
        "id": "TWqz1Ly-TZfI",
        "colab_type": "code",
        "colab": {
          "base_uri": "https://localhost:8080/",
          "height": 367
        },
        "outputId": "97c295fa-6d94-4870-a27d-fb235eb94aa7"
      },
      "source": [
        "groups = modi.groupby(['channel','sentiment'])\n",
        "group = modi.groupby('channel')\n",
        "a=[]\n",
        "a.append(100*len(groups.get_group(('cnn','positive')))/len(group.get_group('cnn')))\n",
        "a.append(100*len(groups.get_group(('ndtv','positive')))/len(group.get_group('ndtv')))\n",
        "a.append(100*len(groups.get_group(('republic','positive')))/len(group.get_group('republic')))\n",
        "a.append(100*len(groups.get_group(('times','positive')))/len(group.get_group('times')))\n",
        "\n",
        "\n",
        "groups = rahul_gandhi.groupby(['channel','sentiment'])\n",
        "group = rahul_gandhi.groupby('channel')\n",
        "b=[]\n",
        "b.append(100*len(groups.get_group(('cnn','positive')))/len(group.get_group('cnn')))\n",
        "b.append(100*len(groups.get_group(('ndtv','positive')))/len(group.get_group('ndtv')))\n",
        "b.append(100*len(groups.get_group(('republic','positive')))/len(group.get_group('republic')))\n",
        "b.append(100*len(groups.get_group(('times','positive')))/len(group.get_group('times')))\n",
        "\n",
        "fig, axes = plt.subplots(1, 2,figsize=(15,5))\n",
        "axes[0].set_ylim(0,30)\n",
        "axes[1].set_ylim(0,30)\n",
        "\n",
        "d=pd.DataFrame({'channel':channels,'pos_per':a})\n",
        "e=pd.DataFrame({'channel':channels,'pos_per':b})\n",
        "\n",
        "\n",
        "sns.barplot(x='channel',y='pos_per',data=d,ax=axes[0], palette=(\"Greens\")).set_title(\"Modi\")\n",
        "sns.barplot(x='channel',y='pos_per',data=e,ax=axes[1], palette=(\"Greens\")).set_title(\"Rahul Gandhi\")\n",
        "\n",
        "\n",
        "\n",
        "\n"
      ],
      "execution_count": null,
      "outputs": [
        {
          "output_type": "execute_result",
          "data": {
            "text/plain": [
              "Text(0.5, 1.0, 'Rahul Gandhi')"
            ]
          },
          "metadata": {
            "tags": []
          },
          "execution_count": 123
        },
        {
          "output_type": "display_data",
          "data": {
            "image/png": "[encoded data removed]",
            "text/plain": [
              "<Figure size 1080x360 with 2 Axes>"
            ]
          },
          "metadata": {
            "tags": [],
            "needs_background": "light"
          }
        }
      ]
    },
    {
      "cell_type": "markdown",
      "metadata": {
        "id": "uDZ30Tllemml",
        "colab_type": "text"
      },
      "source": [
        "* It shows that all the four News Channel talks more positive about Narendra Modi than Rahul Gandhi\n",
        "* NDTV is having the maximum positive tweets percent of 28.38%.\n",
        "* Rahul Gandhi is having very few positive tweets from all the four channels.\n",
        "* Combined positive percentage of Rahul Gandhi ( 5.43 + 8.8 + 6.25 + 6.66 ) is less than NDTV's ( 28.38 %) for Narendra Modi.\n"
      ]
    },
    {
      "cell_type": "markdown",
      "metadata": {
        "id": "HmKPMd5OediV",
        "colab_type": "text"
      },
      "source": [
        "**BJP vs Congress**"
      ]
    },
    {
      "cell_type": "code",
      "metadata": {
        "id": "45mbzojcej4h",
        "colab_type": "code",
        "colab": {
          "base_uri": "https://localhost:8080/",
          "height": 367
        },
        "outputId": "0e04f032-03ff-4e82-c6bd-ee76d2423c8a"
      },
      "source": [
        "groups = bjp.groupby(['channel','sentiment'])\n",
        "group = bjp.groupby('channel')\n",
        "a=[]\n",
        "a.append(100*len(groups.get_group(('cnn','positive')))/len(group.get_group('cnn')))\n",
        "a.append(100*len(groups.get_group(('ndtv','positive')))/len(group.get_group('ndtv')))\n",
        "a.append(100*len(groups.get_group(('republic','positive')))/len(group.get_group('republic')))\n",
        "a.append(100*len(groups.get_group(('times','positive')))/len(group.get_group('times')))\n",
        "\n",
        "\n",
        "groups = congress.groupby(['channel','sentiment'])\n",
        "group = congress.groupby('channel')\n",
        "b=[]\n",
        "b.append(100*len(groups.get_group(('cnn','positive')))/len(group.get_group('cnn')))\n",
        "b.append(100*len(groups.get_group(('ndtv','positive')))/len(group.get_group('ndtv')))\n",
        "b.append(100*len(groups.get_group(('republic','positive')))/len(group.get_group('republic')))\n",
        "b.append(100*len(groups.get_group(('times','positive')))/len(group.get_group('times')))\n",
        "\n",
        "fig, axes = plt.subplots(1, 2,figsize=(15,5))\n",
        "axes[0].set_ylim(0,30)\n",
        "axes[1].set_ylim(0,30)\n",
        "\n",
        "d=pd.DataFrame({'channel':channels,'pos_per':a})\n",
        "e=pd.DataFrame({'channel':channels,'pos_per':b})\n",
        "\n",
        "\n",
        "sns.barplot(x='channel',y='pos_per',data=d,ax=axes[0], palette=(\"Greens\")).set_title(\"BJP\")\n",
        "sns.barplot(x='channel',y='pos_per',data=e,ax=axes[1], palette=(\"Greens\")).set_title(\"Congress\")"
      ],
      "execution_count": null,
      "outputs": [
        {
          "output_type": "execute_result",
          "data": {
            "text/plain": [
              "Text(0.5, 1.0, 'Congress')"
            ]
          },
          "metadata": {
            "tags": []
          },
          "execution_count": 120
        },
        {
          "output_type": "display_data",
          "data": {
            "image/png": "[encoded data removed]",
            "text/plain": [
              "<Figure size 1080x360 with 2 Axes>"
            ]
          },
          "metadata": {
            "tags": [],
            "needs_background": "light"
          }
        }
      ]
    },
    {
      "cell_type": "markdown",
      "metadata": {
        "id": "Ace8YC00iYT7",
        "colab_type": "text"
      },
      "source": [
        "* It can be seen that the News Channels are more interested in any particular leader than a party, because for both BJP and Congress the percent of positive tweets is less.\n",
        "* Republic TV having more positive tweets about BJP party."
      ]
    },
    {
      "cell_type": "markdown",
      "metadata": {
        "id": "_pea2L65jCyi",
        "colab_type": "text"
      },
      "source": [
        "###Percentage Negative Tweets"
      ]
    },
    {
      "cell_type": "markdown",
      "metadata": {
        "id": "HLYblEo8jOkW",
        "colab_type": "text"
      },
      "source": [
        "**Modi vs Rahul Gandhi**"
      ]
    },
    {
      "cell_type": "code",
      "metadata": {
        "id": "P_ZWJk-4jN_t",
        "colab_type": "code",
        "colab": {
          "base_uri": "https://localhost:8080/",
          "height": 367
        },
        "outputId": "e7858f97-6adb-4608-b05a-143de924fc16"
      },
      "source": [
        "groups = modi.groupby(['channel','sentiment'])\n",
        "group = modi.groupby('channel')\n",
        "a=[]\n",
        "a.append(100*len(groups.get_group(('cnn','negative')))/len(group.get_group('cnn')))\n",
        "a.append(100*len(groups.get_group(('ndtv','negative')))/len(group.get_group('ndtv')))\n",
        "a.append(100*len(groups.get_group(('republic','negative')))/len(group.get_group('republic')))\n",
        "a.append(100*len(groups.get_group(('times','negative')))/len(group.get_group('times')))\n",
        "\n",
        "\n",
        "groups = rahul_gandhi.groupby(['channel','sentiment'])\n",
        "group = rahul_gandhi.groupby('channel')\n",
        "b=[]\n",
        "b.append(100*len(groups.get_group(('cnn','negative')))/len(group.get_group('cnn')))\n",
        "b.append(100*len(groups.get_group(('ndtv','negative')))/len(group.get_group('ndtv')))\n",
        "b.append(100*len(groups.get_group(('republic','negative')))/len(group.get_group('republic')))\n",
        "b.append(100*len(groups.get_group(('times','negative')))/len(group.get_group('times')))\n",
        "\n",
        "fig, axes = plt.subplots(1, 2,figsize=(15,5))\n",
        "axes[0].set_ylim(0,50)\n",
        "axes[1].set_ylim(0,50)\n",
        "\n",
        "d=pd.DataFrame({'channel':channels,'neg_per':a})\n",
        "e=pd.DataFrame({'channel':channels,'neg_per':b})\n",
        "\n",
        "\n",
        "sns.barplot(x='channel',y='neg_per',data=d,ax=axes[0], palette=(\"Reds\")).set_title(\"Modi\")\n",
        "sns.barplot(x='channel',y='neg_per',data=e,ax=axes[1], palette=(\"Reds\")).set_title(\"Rahul Gandhi\")\n",
        "\n",
        "\n",
        "\n",
        "\n"
      ],
      "execution_count": null,
      "outputs": [
        {
          "output_type": "execute_result",
          "data": {
            "text/plain": [
              "Text(0.5, 1.0, 'Rahul Gandhi')"
            ]
          },
          "metadata": {
            "tags": []
          },
          "execution_count": 116
        },
        {
          "output_type": "display_data",
          "data": {
            "image/png": "[encoded data removed]",
            "text/plain": [
              "<Figure size 1080x360 with 2 Axes>"
            ]
          },
          "metadata": {
            "tags": [],
            "needs_background": "light"
          }
        }
      ]
    },
    {
      "cell_type": "markdown",
      "metadata": {
        "id": "hzabFBl5kYTF",
        "colab_type": "text"
      },
      "source": [
        "* We can see clearly in the above figure that the all the News channels talks so much negative about Rahul Gandhi.\n",
        "* But for Narendra Modi that is not the case, only Republic TV is having a significant negative percent and rest all are below 20%."
      ]
    },
    {
      "cell_type": "markdown",
      "metadata": {
        "id": "XbHLtuaplCC2",
        "colab_type": "text"
      },
      "source": [
        "**BJP vs Congress**"
      ]
    },
    {
      "cell_type": "code",
      "metadata": {
        "id": "7oMkORIXlGMs",
        "colab_type": "code",
        "colab": {
          "base_uri": "https://localhost:8080/",
          "height": 367
        },
        "outputId": "4a3c89eb-f74c-4f27-b030-c030d2e2388f"
      },
      "source": [
        "groups = bjp.groupby(['channel','sentiment'])\n",
        "group = bjp.groupby('channel')\n",
        "a=[]\n",
        "a.append(100*len(groups.get_group(('cnn','positive')))/len(group.get_group('cnn')))\n",
        "a.append(100*len(groups.get_group(('ndtv','positive')))/len(group.get_group('ndtv')))\n",
        "a.append(100*len(groups.get_group(('republic','positive')))/len(group.get_group('republic')))\n",
        "a.append(100*len(groups.get_group(('times','positive')))/len(group.get_group('times')))\n",
        "\n",
        "\n",
        "groups = congress.groupby(['channel','sentiment'])\n",
        "group = congress.groupby('channel')\n",
        "b=[]\n",
        "b.append(100*len(groups.get_group(('cnn','negative')))/len(group.get_group('cnn')))\n",
        "b.append(100*len(groups.get_group(('ndtv','negative')))/len(group.get_group('ndtv')))\n",
        "b.append(100*len(groups.get_group(('republic','negative')))/len(group.get_group('republic')))\n",
        "b.append(100*len(groups.get_group(('times','negative')))/len(group.get_group('times')))\n",
        "\n",
        "\n",
        "fig, axes = plt.subplots(1, 2,figsize=(15,5))\n",
        "axes[0].set_ylim(0,40)\n",
        "axes[1].set_ylim(0,40)\n",
        "\n",
        "d=pd.DataFrame({'channel':channels,'neg_per':a})\n",
        "e=pd.DataFrame({'channel':channels,'neg_per':b})\n",
        "\n",
        "\n",
        "sns.barplot(x='channel',y='neg_per',data=d,ax=axes[0], palette=(\"Reds\")).set_title(\"BJP\")\n",
        "sns.barplot(x='channel',y='neg_per',data=e,ax=axes[1], palette=(\"Reds\")).set_title(\"Congress\")"
      ],
      "execution_count": null,
      "outputs": [
        {
          "output_type": "execute_result",
          "data": {
            "text/plain": [
              "Text(0.5, 1.0, 'Congress')"
            ]
          },
          "metadata": {
            "tags": []
          },
          "execution_count": 115
        },
        {
          "output_type": "display_data",
          "data": {
            "image/png": "[encoded data removed]",
            "text/plain": [
              "<Figure size 1080x360 with 2 Axes>"
            ]
          },
          "metadata": {
            "tags": [],
            "needs_background": "light"
          }
        }
      ]
    },
    {
      "cell_type": "markdown",
      "metadata": {
        "id": "p2uohh0ilqgo",
        "colab_type": "text"
      },
      "source": [
        "* Here also BJP is having very low percent of negative tweets from all the channels.\n",
        "* Congress is not so popular among these channels becuse ever channel is having about 25% negative tweets which is very low than that of BJP.\n",
        "* We can also see that for BJP most of the tweets are neutral (because both the positive and negative count is low)."
      ]
    },
    {
      "cell_type": "markdown",
      "metadata": {
        "id": "MoI1aSNzSP_n",
        "colab_type": "text"
      },
      "source": [
        "#<a id=\"ref\"> References</a>"
      ]
    },
    {
      "cell_type": "markdown",
      "metadata": {
        "id": "MAME0CmOSTdG",
        "colab_type": "text"
      },
      "source": [
        "* [BERT Fine-Tuning Tutorial with PyTorch](https://mccormickml.com/2019/07/22/BERT-fine-tuning/)\n",
        "\n",
        "* [Hugging Face Transformers](https://huggingface.co/transformers/)\n",
        "\n",
        "* [Text Classification | Sentiment Analysis with BERT using huggingface](https://www.youtube.com/watch?time_continue=2055&v=8N-nM3QW7O0&feature=emb_title)\n",
        "\n",
        "* [How to Fine-Tune BERT for Text Classification?](https://arxiv.org/pdf/1905.05583.pdf)\n"
      ]
    }
  ]
}